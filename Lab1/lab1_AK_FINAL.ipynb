{
 "cells": [
  {
   "cell_type": "markdown",
   "metadata": {},
   "source": [
    "# 1. How to Read Academic Papers?\n",
    "\n",
    "We will have to read several papers in this class (15-20 - why?). Watch this lecture from Andrew Ng and summarize his strategy on how to read research papers.\n",
    "\n",
    "https://www.youtube.com/watch?v=733m6qBH-jI"
   ]
  },
  {
   "cell_type": "markdown",
   "metadata": {},
   "source": [
    "* Compile a list of papers from typical sources\n",
    "* Create a line plot starting at 0% to 100%\n",
    "* create a goal of how much of each paper to read (such as 10%)\n",
    "* Skip around and read each paper at the beginning (10% of the paper)\n",
    "* This allows you to decide early which papers are duds\n",
    "* Also allows you to see if the research paper is worth reading all the way through. Looks at citations and sees which papers are connected to each other.\n",
    "\n",
    "When starting to read papers, read the titles, abstract, and the figures (saves time to assess what the paper is about)\n",
    "Afterwards, go to the intro and conclusion and look more closely at the figures and skim whats relevant. Allows you to see if the author has convinced you to delve deeper into their reseach. Then read it again and skip through things you do not understand. "
   ]
  },
  {
   "cell_type": "markdown",
   "metadata": {},
   "source": [
    "# 2. Statistics"
   ]
  },
  {
   "cell_type": "markdown",
   "metadata": {},
   "source": [
    "a) $w \\thicksim {\\tt Bernoulli} (p)$, $x \\thicksim {\\tt Bernoulli} (q)$, i.i.d.\n",
    "\n",
    "- $E \\left[ w x \\right] = p q $\n",
    "\n",
    "    $E \\left[ w \\right] E \\left[ x \\right] = p q$\n",
    "    \n",
    "\n",
    "- $V \\left[ w x \\right]$\n",
    "\n",
    "    $V \\left[ w \\right] = p (1 - p)$\n",
    "\n",
    "    $V \\left[ w \\right] = E \\left[ w^2 \\right] - E \\left[ w \\right]^2$\n",
    "\n",
    "    $p (1 - p) = E \\left[ w^2 \\right] - p^2$\n",
    "\n",
    "    $E \\left[w^2 \\right] = p - p^2 + p^2 = p$\n",
    "\n",
    "    or\n",
    "\n",
    "    $E \\left[ w^2 \\right] = \\sum_v v^2 f(v) = 0^2 (1-p) + 1^2 (p) = p$\n",
    "\n",
    "    $V \\left[ w x \\right] = E \\left[ (w x)^2 \\right] - E \\left[ w x \\right]^2$\n",
    "    \n",
    "    $E \\left[ (w x)^2 \\right] = E \\left[ w^2 x^2 \\right] = \\sum_{v_w} \\sum_{v_x} v_w^2 v_x^2 f(v_w, v_x) = \\sum_{v_w} \\sum_{v_x} v_w^2 v_x^2 f(v_w) f(v_x)$\n",
    "    \n",
    "    $E \\left[ w^2 x^2 \\right] = \\sum_{v_w} v_w^2 f(v_w) \\sum_{v_x} v_x^2 f(v_x)$\n",
    "\n",
    "    $E \\left[ w^2 x^2 \\right] = E \\left[ w^2 \\right] E \\left[ x^2 \\right] = p q$\n",
    "    \n",
    "    $E \\left[ w x \\right]^2 = p^2 q^2$\n",
    "    \n",
    "    $V \\left[ w x \\right] = p q  - p^2 q^2$\n",
    "    \n",
    "\n",
    "b) $w \\thicksim {\\tt Bernoulli} (p)$, $x \\thicksim {\\tt Normal} (0, \\sigma)$, i.i.d.\n",
    "\n",
    "- $E \\left[ w x \\right]$\n",
    "\n",
    "- $V \\left[ w x \\right]$\n",
    "\n",
    "c) $w \\thicksim {\\tt Normal} (0, \\sigma_w)$, $x \\thicksim {\\tt Normal} (0, \\sigma_x)$, i.i.d.\n",
    "\n",
    "- $E \\left[ w x \\right]$\n",
    "\n",
    "- $V \\left[ w x \\right]$\n",
    "\n",
    "d) $w \\thicksim {\\tt Uniform} (-1, 1)$, $x \\thicksim {\\tt Uniform} (-1, 1)$, i.i.d.\n",
    "\n",
    "- $E \\left[ {\\tt Relu} (w x) \\right]$\n",
    "\n",
    "- $V \\left[ {\\tt Relu} (w x) \\right]$\n",
    "\n",
    "\n",
    "\n"
   ]
  },
  {
   "attachments": {
    "image-2.png": {
     "image/png": "[encoded data removed]"
    },
    "image.png": {
     "image/png": "[encoded data removed]"
    }
   },
   "cell_type": "markdown",
   "metadata": {},
   "source": [
    "### Answers\n",
    "a) already correct\n",
    "\n",
    "b) \n",
    "\n",
    "* E[wx] = E[w]E[x};\n",
    "\n",
    "Normal(0,sigma) has a mean of 0 so \n",
    "E[w] = p; E[x] = 0;\n",
    "\n",
    "**E[wx] = E[w]E[x} = p*0 = 0**\n",
    "\n",
    "* V[wx]\n",
    "\n",
    "V[w] = p(1-p);\n",
    "\n",
    "V[wx] = E[(wx)$^{2}$]-(E[wx])$^{2}$\n",
    "\n",
    "We know E[w$^{2}$] = E[w] due to bernoulli's\n",
    "\n",
    "E[(wx)$^{2}$] = E[w$^{2}$] E[x$^{2}$]; where E[w$^{2}$] = p; E[x$^{2}$] = sigma$^{2}$\n",
    "\n",
    "We also know that E[w*x] = 0;\n",
    "\n",
    "**V[wx] =  p*sigma$^{2}$**\n",
    "\n",
    "c)\n",
    "* E[wx] = E[w]E[x];\n",
    "\n",
    "E[w]=E[x]=0\n",
    "\n",
    "**E[wx] = 0**\n",
    "\n",
    "* V[wx]\n",
    "\n",
    "V[wx] = E[(wx)$^{2}$]-(E[wx])$^{2}$\n",
    "\n",
    "E[w$^{2}$] = sigma$_{w}$$^{2}$; E[x$^{2}$] = sigma$_{x}$$^{2}$\n",
    "\n",
    "**V[wx] = sigma$_{w}$$^{2}$sigma$_{x}$$^{2}$**\n",
    "\n",
    "d)\n",
    "* E[wx] = E[w]E[x];\n",
    "![image.png](attachment:image.png)\n",
    "E[w] = (1+1)/2 = 1; E[x] = 1\n",
    "\n",
    "**E[wx] = 1**\n",
    "\n",
    "* V[wx]\n",
    "![image-2.png](attachment:image-2.png)\n",
    "V[wx] = E[(wx)$^{2}$]-(E[wx])$^{2}$ = ((1+1+1)$^{2}$-1)/12\n",
    "\n",
    "**V[wx] = 2/3**"
   ]
  },
  {
   "cell_type": "markdown",
   "metadata": {},
   "source": [
    "# 3. Implement the following functions"
   ]
  },
  {
   "cell_type": "code",
   "execution_count": 1,
   "metadata": {},
   "outputs": [],
   "source": [
    "import numpy as np\n",
    "import matplotlib.pyplot as plt\n",
    "%matplotlib inline\n",
    "\n",
    "# Create a jupyter notebook\n",
    "\n",
    "# Implement relu function\n",
    "# relu(x) = max(0,x). PSD\n",
    "def relu(x):\n",
    "  return (x >= 0) * x\n",
    "\n",
    "# Implement relu6 function\n",
    "\n",
    "def relu6(x):\n",
    "  return np.minimum(np.maximum(0, x), 6)\n",
    "\n",
    "# Implement sigmoid function\n",
    "\n",
    "def sigmoid(x):\n",
    "  clip_x = np.clip(x, -500, 500) #was getting an overflow error, so setting bounds to fix it.\n",
    "  return 1 / (1 + np.exp(-clip_x))\n",
    "\n",
    "# Implement tanh function\n",
    "\n",
    "def tanh(x):\n",
    "  return np.tanh(x)\n",
    "\n",
    "# Implement softmax function\n",
    "\n",
    "def softmax(x):\n",
    "  shift_x = x - np.max(x, axis=1, keepdims=True)\n",
    "  exps = np.exp(shift_x)\n",
    "  #broadcasting\n",
    "  sum_exps = np.sum(exps, axis=1, keepdims=True)\n",
    "  return exps / sum_exps"
   ]
  },
  {
   "cell_type": "code",
   "execution_count": 2,
   "metadata": {},
   "outputs": [
    {
     "data": {
      "text/plain": [
       "array([ 0.26799056,  0.33553766, -0.78296259, -0.01891236, -0.13826756,\n",
       "       -0.22765203,  0.12707766, -0.04077846,  0.13542604,  0.90912195])"
      ]
     },
     "execution_count": 2,
     "metadata": {},
     "output_type": "execute_result"
    }
   ],
   "source": [
    "np.random.uniform(low=-1.0, high=1.0, size=10)\n"
   ]
  },
  {
   "cell_type": "markdown",
   "metadata": {},
   "source": [
    "## Test"
   ]
  },
  {
   "cell_type": "code",
   "execution_count": 3,
   "metadata": {},
   "outputs": [],
   "source": [
    "x = np.array([\n",
    "  [-2.0, 1.0, 2.0, 3.0],\n",
    "  [-20.0, 10.0, 20.0, 30.0],\n",
    "  [-2000.0, 1000.0, 2000.0, 3000.0]])"
   ]
  },
  {
   "cell_type": "code",
   "execution_count": 4,
   "metadata": {},
   "outputs": [
    {
     "data": {
      "text/plain": [
       "array([[-0.e+00,  1.e+00,  2.e+00,  3.e+00],\n",
       "       [-0.e+00,  1.e+01,  2.e+01,  3.e+01],\n",
       "       [-0.e+00,  1.e+03,  2.e+03,  3.e+03]])"
      ]
     },
     "execution_count": 4,
     "metadata": {},
     "output_type": "execute_result"
    }
   ],
   "source": [
    "relu(x)"
   ]
  },
  {
   "cell_type": "code",
   "execution_count": 5,
   "metadata": {},
   "outputs": [
    {
     "data": {
      "text/plain": [
       "array([[0., 1., 2., 3.],\n",
       "       [0., 6., 6., 6.],\n",
       "       [0., 6., 6., 6.]])"
      ]
     },
     "execution_count": 5,
     "metadata": {},
     "output_type": "execute_result"
    }
   ],
   "source": [
    "relu6(x)"
   ]
  },
  {
   "cell_type": "code",
   "execution_count": 6,
   "metadata": {},
   "outputs": [
    {
     "data": {
      "text/plain": [
       "array([[1.19202922e-001, 7.31058579e-001, 8.80797078e-001,\n",
       "        9.52574127e-001],\n",
       "       [2.06115362e-009, 9.99954602e-001, 9.99999998e-001,\n",
       "        1.00000000e+000],\n",
       "       [7.12457641e-218, 1.00000000e+000, 1.00000000e+000,\n",
       "        1.00000000e+000]])"
      ]
     },
     "execution_count": 6,
     "metadata": {},
     "output_type": "execute_result"
    }
   ],
   "source": [
    "sigmoid(x)"
   ]
  },
  {
   "cell_type": "code",
   "execution_count": 7,
   "metadata": {},
   "outputs": [
    {
     "data": {
      "text/plain": [
       "array([[-0.96402758,  0.76159416,  0.96402758,  0.99505475],\n",
       "       [-1.        ,  1.        ,  1.        ,  1.        ],\n",
       "       [-1.        ,  1.        ,  1.        ,  1.        ]])"
      ]
     },
     "execution_count": 7,
     "metadata": {},
     "output_type": "execute_result"
    }
   ],
   "source": [
    "tanh(x)"
   ]
  },
  {
   "cell_type": "code",
   "execution_count": 8,
   "metadata": {},
   "outputs": [
    {
     "data": {
      "text/plain": [
       "array([[4.46235642e-03, 8.96288247e-02, 2.43636405e-01, 6.62272414e-01],\n",
       "       [1.92866228e-22, 2.06106005e-09, 4.53978686e-05, 9.99954600e-01],\n",
       "       [0.00000000e+00, 0.00000000e+00, 0.00000000e+00, 1.00000000e+00]])"
      ]
     },
     "execution_count": 8,
     "metadata": {},
     "output_type": "execute_result"
    }
   ],
   "source": [
    "softmax(x)"
   ]
  },
  {
   "cell_type": "markdown",
   "metadata": {},
   "source": [
    "# 4. Check Distribution of Operations\n",
    "\n",
    "Given $x  \\thicksim {\\tt Normal}(0, \\sigma_x)$ and $w  \\thicksim {\\tt Normal}(0, \\sigma_w)$, where all x's and w's and i.i.d., what's the mean and variance of $y = {\\tt Relu} \\left( \\sum_i w_i x_i \\right)$?"
   ]
  },
  {
   "cell_type": "markdown",
   "metadata": {},
   "source": [
    "## 4.1. Create Distributions for $x$ and $w$"
   ]
  },
  {
   "cell_type": "code",
   "execution_count": 9,
   "metadata": {},
   "outputs": [],
   "source": [
    "S = 100000\n",
    "N = 10\n",
    "\n",
    "x = np.random.normal(loc=0, scale=1, size=(S, N))\n",
    "w = np.random.normal(loc=0, scale=1, size=(S, N))"
   ]
  },
  {
   "cell_type": "markdown",
   "metadata": {},
   "source": [
    "## 4.2. Compute Output Distribution"
   ]
  },
  {
   "cell_type": "code",
   "execution_count": 10,
   "metadata": {},
   "outputs": [
    {
     "name": "stdout",
     "output_type": "stream",
     "text": [
      "1.2255851473088657 3.4555004828930205\n"
     ]
    }
   ],
   "source": [
    "y = relu(np.sum(w * x, axis=1))\n",
    "\n",
    "print(np.mean(y), np.var(y))"
   ]
  },
  {
   "cell_type": "markdown",
   "metadata": {},
   "source": [
    "## 4.3. Let's Assume Variance of $x$ range from 0 to 3 and Compute Distribution of $y$"
   ]
  },
  {
   "cell_type": "code",
   "execution_count": 11,
   "metadata": {},
   "outputs": [
    {
     "data": {
      "image/png": "[encoded data removed]",
      "text/plain": [
       "<Figure size 640x480 with 1 Axes>"
      ]
     },
     "metadata": {},
     "output_type": "display_data"
    },
    {
     "data": {
      "image/png": "[encoded data removed]",
      "text/plain": [
       "<Figure size 640x480 with 1 Axes>"
      ]
     },
     "metadata": {},
     "output_type": "display_data"
    }
   ],
   "source": [
    "means = []\n",
    "variances = []\n",
    "scales = np.linspace(0, 3, 100)\n",
    "\n",
    "for s in scales:\n",
    "    x = np.random.normal(loc=0, scale=s, size=(S, N))\n",
    "    y = relu(np.sum(w * x, axis=1))\n",
    "    means.append(np.mean(y))\n",
    "    variances.append(np.var(y))\n",
    "    \n",
    "plt.plot(scales, means)\n",
    "plt.title('Mean')\n",
    "plt.show()\n",
    "plt.plot(scales, variances)\n",
    "plt.title('Variance')\n",
    "plt.show()"
   ]
  },
  {
   "cell_type": "markdown",
   "metadata": {},
   "source": [
    "## 4.4. Find the Relation for Mean and Variance"
   ]
  },
  {
   "cell_type": "code",
   "execution_count": 12,
   "metadata": {},
   "outputs": [
    {
     "name": "stdout",
     "output_type": "stream",
     "text": [
      " \n",
      "1.232 x + 0.0007779\n"
     ]
    }
   ],
   "source": [
    "p = np.polyfit(scales, means, 1)\n",
    "x_poly_mean = np.poly1d(p)\n",
    "print(x_poly_mean)"
   ]
  },
  {
   "cell_type": "code",
   "execution_count": 13,
   "metadata": {},
   "outputs": [
    {
     "name": "stdout",
     "output_type": "stream",
     "text": [
      "       2\n",
      "3.499 x - 0.01004 x + 0.0024\n"
     ]
    }
   ],
   "source": [
    "p = np.polyfit(scales, variances, 2)\n",
    "x_poly_var = np.poly1d(p)\n",
    "print(x_poly_var)"
   ]
  },
  {
   "cell_type": "markdown",
   "metadata": {},
   "source": [
    "## 4.5. Compare Results with Problem 2"
   ]
  },
  {
   "cell_type": "markdown",
   "metadata": {},
   "source": [
    "Problem 2 results were found using exact formulas from the known properties of its distribution, while problem 4 uses actual data to compute and find the values. Mean (estimated value) is shown as a first order polynomial, while variance is shown as a second order polynomial"
   ]
  },
  {
   "cell_type": "markdown",
   "metadata": {},
   "source": [
    "## 4.6. Analyze Paper Equations\n",
    "\n",
    "You were reading the paper https://arxiv.org/pdf/2003.00394.pdf, and you saw in the introduction the following equations.\n",
    "\n",
    "<img src='2003.00394.png' height=50% width=50%>"
   ]
  },
  {
   "cell_type": "code",
   "execution_count": 14,
   "metadata": {},
   "outputs": [
    {
     "name": "stdout",
     "output_type": "stream",
     "text": [
      "sampled distribution: -0.0008624371296602195 10.966804961290416\n",
      "formula distribution: 0 10.994613334595746\n"
     ]
    }
   ],
   "source": [
    "# larger sample size for distribution give us a good result.\n",
    "\n",
    "S = 1000000\n",
    "I = 10\n",
    "\n",
    "# let's assume 'b' is 0\n",
    "\n",
    "b = np.random.normal(loc=0, scale=1, size=(S,))\n",
    "x = np.random.normal(loc=0, scale=1, size=(S, I))\n",
    "w = np.random.normal(loc=0, scale=1, size=(S, I))\n",
    "\n",
    "y = np.sum(w * x, axis=1) + b\n",
    "\n",
    "print('sampled distribution:', np.mean(y), np.var(y))\n",
    "\n",
    "# we do the mean over the sample size S\n",
    "\n",
    "print('formula distribution:', 0, np.var(b) + np.var(w) * \n",
    "      np.mean(np.sum(x**2, axis=1)))\n"
   ]
  },
  {
   "cell_type": "markdown",
   "metadata": {},
   "source": [
    "Which conclusion can you draw based on these numbers? $x_j ~ \\tt{i.i.d.}$ with the same distribution, $\\mu_j = 0$\n",
    "\n",
    "**sampled and formula distribution are nearly the same. Formula distribution uses properties of the distribution, which is why we get a 0 for it, while the sampled distribution uses data, bringing it relatively close to 0 but not 0.**"
   ]
  },
  {
   "cell_type": "markdown",
   "metadata": {},
   "source": [
    "# 5. Load Iris Dataset\n",
    "\n",
    "Load the Iris dataset and plot its histogram."
   ]
  },
  {
   "cell_type": "code",
   "execution_count": 15,
   "metadata": {},
   "outputs": [
    {
     "data": {
      "image/png": "[encoded data removed]",
      "text/plain": [
       "<Figure size 640x480 with 1 Axes>"
      ]
     },
     "metadata": {},
     "output_type": "display_data"
    }
   ],
   "source": [
    "from sklearn.datasets import load_iris\n",
    "from sklearn.model_selection import train_test_split\n",
    "\n",
    "def load_and_split_iris():\n",
    "    # Load the Iris dataset\n",
    "    iris = load_iris()\n",
    "    X, y = iris.data, iris.target\n",
    "    x_train, x_test, y_train, y_test = train_test_split(X, y)   \n",
    "    return (x_train, y_train), (x_test, y_test)\n",
    "\n",
    "\n",
    "(x_train, y_train), (x_test, y_test) = load_and_split_iris()\n",
    "\n",
    "# Plot histograms for each feature\n",
    "feature_names = load_iris().feature_names\n",
    "for i in range(x_train.shape[1]):\n",
    "    plt.hist(x_train[:, i], bins=20, alpha=0.5, label=f'{feature_names[i]}')\n",
    "plt.title('Histogram for Iris dataset')\n",
    "plt.xlabel('Feature')\n",
    "plt.ylabel('Frequency')\n",
    "plt.legend()\n",
    "plt.show()\n"
   ]
  },
  {
   "cell_type": "markdown",
   "metadata": {},
   "source": [
    "# 6. Load the MNIST Dataset\n",
    "\n",
    "Load the MNIST dataset and plot a sample in a 3x3 grid in the image."
   ]
  },
  {
   "cell_type": "code",
   "execution_count": 16,
   "metadata": {},
   "outputs": [],
   "source": [
    "from tensorflow.keras.datasets import mnist\n",
    "\n",
    "def load_mnist():\n",
    "    # Load the MNIST dataset\n",
    "    (x_train, y_train), (x_test, y_test) = mnist.load_data()\n",
    "    return (x_train, y_train), (x_test, y_test)"
   ]
  },
  {
   "cell_type": "code",
   "execution_count": 18,
   "metadata": {
    "scrolled": true
   },
   "outputs": [
    {
     "data": {
      "image/png": "[encoded data removed]",
      "text/plain": [
       "<Figure size 640x480 with 9 Axes>"
      ]
     },
     "metadata": {},
     "output_type": "display_data"
    }
   ],
   "source": [
    "(x_train, y_train), (x_test, y_test) = load_mnist()\n",
    "\n",
    "_, axes = plt.subplots(3, 3) \n",
    "\n",
    "for i in range(3):\n",
    "    for j in range(3):\n",
    "        idx = np.random.choice(len(x_train))\n",
    "        axes[i, j].imshow(x_train[idx], cmap=plt.cm.gray)  # Display the image in grayscale\n",
    "        axes[i, j].set_title(f'Label: {y_train[idx]}', fontsize=12)  # Set title with the image label\n",
    "        axes[i, j].axis('off')  # Hide the axes\n",
    "\n",
    "plt.tight_layout()\n",
    "plt.show()"
   ]
  }
 ],
 "metadata": {
  "kernelspec": {
   "display_name": "Python 3 (ipykernel)",
   "language": "python",
   "name": "python3"
  },
  "language_info": {
   "codemirror_mode": {
    "name": "ipython",
    "version": 3
   },
   "file_extension": ".py",
   "mimetype": "text/x-python",
   "name": "python",
   "nbconvert_exporter": "python",
   "pygments_lexer": "ipython3",
   "version": "3.10.13"
  }
 },
 "nbformat": 4,
 "nbformat_minor": 4
}
